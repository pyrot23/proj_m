{
 "cells": [
  {
   "cell_type": "code",
   "execution_count": 1,
   "metadata": {},
   "outputs": [
    {
     "ename": "ModuleNotFoundError",
     "evalue": "No module named 'pandas'",
     "output_type": "error",
     "traceback": [
      "\u001b[0;31m---------------------------------------------------------------------------\u001b[0m",
      "\u001b[0;31mModuleNotFoundError\u001b[0m                       Traceback (most recent call last)",
      "\u001b[0;32m<ipython-input-1-0101b646f96b>\u001b[0m in \u001b[0;36m<module>\u001b[0;34m()\u001b[0m\n\u001b[0;32m----> 1\u001b[0;31m \u001b[0;32mimport\u001b[0m \u001b[0mpandas\u001b[0m \u001b[0;32mas\u001b[0m \u001b[0mpd\u001b[0m\u001b[0;34m\u001b[0m\u001b[0m\n\u001b[0m\u001b[1;32m      2\u001b[0m \u001b[0;32mimport\u001b[0m \u001b[0mnumpy\u001b[0m \u001b[0;32mas\u001b[0m \u001b[0mnp\u001b[0m\u001b[0;34m\u001b[0m\u001b[0m\n\u001b[1;32m      3\u001b[0m \u001b[0;32mimport\u001b[0m \u001b[0mcodecs\u001b[0m\u001b[0;34m\u001b[0m\u001b[0m\n\u001b[1;32m      4\u001b[0m \u001b[0mget_ipython\u001b[0m\u001b[0;34m(\u001b[0m\u001b[0;34m)\u001b[0m\u001b[0;34m.\u001b[0m\u001b[0mrun_line_magic\u001b[0m\u001b[0;34m(\u001b[0m\u001b[0;34m'matplotlib'\u001b[0m\u001b[0;34m,\u001b[0m \u001b[0;34m'inline'\u001b[0m\u001b[0;34m)\u001b[0m\u001b[0;34m\u001b[0m\u001b[0m\n",
      "\u001b[0;31mModuleNotFoundError\u001b[0m: No module named 'pandas'"
     ]
    }
   ],
   "source": [
    "import pandas as pd\n",
    "import numpy as np\n",
    "import codecs\n",
    "%matplotlib inline"
   ]
  },
  {
   "cell_type": "markdown",
   "metadata": {},
   "source": [
    "## Load original dataset and some basic info."
   ]
  },
  {
   "cell_type": "code",
   "execution_count": 52,
   "metadata": {},
   "outputs": [
    {
     "data": {
      "text/html": [
       "<div>\n",
       "<style>\n",
       "    .dataframe thead tr:only-child th {\n",
       "        text-align: right;\n",
       "    }\n",
       "\n",
       "    .dataframe thead th {\n",
       "        text-align: left;\n",
       "    }\n",
       "\n",
       "    .dataframe tbody tr th {\n",
       "        vertical-align: top;\n",
       "    }\n",
       "</style>\n",
       "<table border=\"1\" class=\"dataframe\">\n",
       "  <thead>\n",
       "    <tr style=\"text-align: right;\">\n",
       "      <th></th>\n",
       "      <th>train_id</th>\n",
       "      <th>name</th>\n",
       "      <th>item_condition_id</th>\n",
       "      <th>category_name</th>\n",
       "      <th>brand_name</th>\n",
       "      <th>price</th>\n",
       "      <th>shipping</th>\n",
       "      <th>item_description</th>\n",
       "    </tr>\n",
       "  </thead>\n",
       "  <tbody>\n",
       "    <tr>\n",
       "      <th>0</th>\n",
       "      <td>0</td>\n",
       "      <td>MLB Cincinnati Reds T Shirt Size XL</td>\n",
       "      <td>3</td>\n",
       "      <td>Men/Tops/T-shirts</td>\n",
       "      <td>NaN</td>\n",
       "      <td>10.0</td>\n",
       "      <td>1</td>\n",
       "      <td>No description yet</td>\n",
       "    </tr>\n",
       "    <tr>\n",
       "      <th>1</th>\n",
       "      <td>1</td>\n",
       "      <td>Razer BlackWidow Chroma Keyboard</td>\n",
       "      <td>3</td>\n",
       "      <td>Electronics/Computers &amp; Tablets/Components &amp; P...</td>\n",
       "      <td>Razer</td>\n",
       "      <td>52.0</td>\n",
       "      <td>0</td>\n",
       "      <td>This keyboard is in great condition and works ...</td>\n",
       "    </tr>\n",
       "    <tr>\n",
       "      <th>2</th>\n",
       "      <td>2</td>\n",
       "      <td>AVA-VIV Blouse</td>\n",
       "      <td>1</td>\n",
       "      <td>Women/Tops &amp; Blouses/Blouse</td>\n",
       "      <td>Target</td>\n",
       "      <td>10.0</td>\n",
       "      <td>1</td>\n",
       "      <td>Adorable top with a hint of lace and a key hol...</td>\n",
       "    </tr>\n",
       "    <tr>\n",
       "      <th>3</th>\n",
       "      <td>3</td>\n",
       "      <td>Leather Horse Statues</td>\n",
       "      <td>1</td>\n",
       "      <td>Home/Home Décor/Home Décor Accents</td>\n",
       "      <td>NaN</td>\n",
       "      <td>35.0</td>\n",
       "      <td>1</td>\n",
       "      <td>New with tags. Leather horses. Retail for [rm]...</td>\n",
       "    </tr>\n",
       "    <tr>\n",
       "      <th>4</th>\n",
       "      <td>4</td>\n",
       "      <td>24K GOLD plated rose</td>\n",
       "      <td>1</td>\n",
       "      <td>Women/Jewelry/Necklaces</td>\n",
       "      <td>NaN</td>\n",
       "      <td>44.0</td>\n",
       "      <td>0</td>\n",
       "      <td>Complete with certificate of authenticity</td>\n",
       "    </tr>\n",
       "  </tbody>\n",
       "</table>\n",
       "</div>"
      ],
      "text/plain": [
       "   train_id                                 name  item_condition_id  \\\n",
       "0         0  MLB Cincinnati Reds T Shirt Size XL                  3   \n",
       "1         1     Razer BlackWidow Chroma Keyboard                  3   \n",
       "2         2                       AVA-VIV Blouse                  1   \n",
       "3         3                Leather Horse Statues                  1   \n",
       "4         4                 24K GOLD plated rose                  1   \n",
       "\n",
       "                                       category_name brand_name  price  \\\n",
       "0                                  Men/Tops/T-shirts        NaN   10.0   \n",
       "1  Electronics/Computers & Tablets/Components & P...      Razer   52.0   \n",
       "2                        Women/Tops & Blouses/Blouse     Target   10.0   \n",
       "3                 Home/Home Décor/Home Décor Accents        NaN   35.0   \n",
       "4                            Women/Jewelry/Necklaces        NaN   44.0   \n",
       "\n",
       "   shipping                                   item_description  \n",
       "0         1                                 No description yet  \n",
       "1         0  This keyboard is in great condition and works ...  \n",
       "2         1  Adorable top with a hint of lace and a key hol...  \n",
       "3         1  New with tags. Leather horses. Retail for [rm]...  \n",
       "4         0          Complete with certificate of authenticity  "
      ]
     },
     "execution_count": 52,
     "metadata": {},
     "output_type": "execute_result"
    }
   ],
   "source": [
    "train_orig = pd.read_table(\"data/train.tsv\")\n",
    "train_orig.head()"
   ]
  },
  {
   "cell_type": "code",
   "execution_count": 53,
   "metadata": {},
   "outputs": [
    {
     "name": "stdout",
     "output_type": "stream",
     "text": [
      "DataFrame shape: (593376, 8)\n",
      "DataFrame dtype:\n"
     ]
    },
    {
     "data": {
      "text/plain": [
       "train_id               int64\n",
       "name                  object\n",
       "item_condition_id      int64\n",
       "category_name         object\n",
       "brand_name            object\n",
       "price                float64\n",
       "shipping               int64\n",
       "item_description      object\n",
       "dtype: object"
      ]
     },
     "execution_count": 53,
     "metadata": {},
     "output_type": "execute_result"
    }
   ],
   "source": [
    "print(\"DataFrame shape: {}\".format(train_orig.shape))\n",
    "print(\"DataFrame dtype:\")\n",
    "train_orig.dtypes"
   ]
  },
  {
   "cell_type": "markdown",
   "metadata": {},
   "source": [
    "##  Data Exploration\n",
    "### Check missing:"
   ]
  },
  {
   "cell_type": "code",
   "execution_count": 54,
   "metadata": {},
   "outputs": [
    {
     "data": {
      "text/plain": [
       "train_id                  0\n",
       "name                      0\n",
       "item_condition_id         0\n",
       "category_name          2541\n",
       "brand_name           253017\n",
       "price                     0\n",
       "shipping                  0\n",
       "item_description          1\n",
       "dtype: int64"
      ]
     },
     "execution_count": 54,
     "metadata": {},
     "output_type": "execute_result"
    }
   ],
   "source": [
    "train_orig.apply(lambda x: sum(x.isnull()))"
   ]
  },
  {
   "cell_type": "markdown",
   "metadata": {},
   "source": [
    "### how often values appear in columns"
   ]
  },
  {
   "cell_type": "code",
   "execution_count": 55,
   "metadata": {},
   "outputs": [
    {
     "name": "stdout",
     "output_type": "stream",
     "text": [
      "\n",
      "How often values appear in column >>item_condition_id<<\n",
      "1    256121\n",
      "3    172980\n",
      "2    150564\n",
      "4     12738\n",
      "5       973\n",
      "Name: item_condition_id, dtype: int64\n",
      "\n",
      "How often values appear in column >>shipping<<\n",
      "0    328556\n",
      "1    264820\n",
      "Name: shipping, dtype: int64\n",
      "\n",
      "How often values appear in column >>category_name<<\n",
      "Women/Athletic Apparel/Pants, Tights, Leggings                 23840\n",
      "Women/Tops & Blouses/T-Shirts                                  18570\n",
      "Beauty/Makeup/Face                                             13731\n",
      "Beauty/Makeup/Lips                                             11878\n",
      "Electronics/Video Games & Consoles/Games                       10644\n",
      "Beauty/Makeup/Eyes                                             10232\n",
      "Electronics/Cell Phones & Accessories/Cases, Covers & Skins     9879\n",
      "Women/Underwear/Bras                                            8588\n",
      "Women/Tops & Blouses/Tank, Cami                                 8169\n",
      "Women/Tops & Blouses/Blouse                                     8157\n",
      "Women/Jewelry/Necklaces                                         7977\n",
      "Women/Dresses/Above Knee, Mini                                  7969\n",
      "Women/Athletic Apparel/Shorts                                   7850\n",
      "Beauty/Makeup/Makeup Palettes                                   7730\n",
      "Women/Shoes/Boots                                               7584\n",
      "Beauty/Fragrance/Women                                          7483\n",
      "Beauty/Skin Care/Face                                           6192\n",
      "Women/Women's Handbags/Shoulder Bag                             6186\n",
      "Men/Tops/T-shirts                                               6159\n",
      "Women/Dresses/Knee-Length                                       5927\n",
      "Women/Shoes/Sandals                                             5855\n",
      "Women/Athletic Apparel/Shirts & Tops                            5813\n",
      "Women/Jewelry/Bracelets                                         5809\n",
      "Men/Shoes/Athletic                                              5608\n",
      "Kids/Toys/Dolls & Accessories                                   5490\n",
      "Women/Women's Accessories/Wallets                               5454\n",
      "Women/Jeans/Slim, Skinny                                        5332\n",
      "Women/Swimwear/Two-Piece                                        5220\n",
      "Home/Home Décor/Home Décor Accents                              5175\n",
      "Women/Shoes/Athletic                                            5123\n",
      "                                                               ...  \n",
      "Vintage & Collectibles/Paper Ephemera/Game                         1\n",
      "Handmade/Dolls and Miniatures/Figurines                            1\n",
      "Handmade/Woodworking/Sculptures                                    1\n",
      "Handmade/Patterns/Beading                                          1\n",
      "Handmade/Knitting/Doll                                             1\n",
      "Home/Home Appliances/Water Coolers & Filters                       1\n",
      "Kids/Strollers/Prams                                               1\n",
      "Handmade/Dolls and Miniatures/Primitive                            1\n",
      "Handmade/Weddings/Frames                                           1\n",
      "Vintage & Collectibles/Antique/Paper Ephemera                      1\n",
      "Home/Kids' Home Store/Nursery Furniture                            1\n",
      "Men/Blazers & Sport Coats/Double Breasted                          1\n",
      "Kids/Potty Training/Seat Covers                                    1\n",
      "Other/Automotive/Oils & Fluids                                     1\n",
      "Other/Automotive/Paint, Body & Trim                                1\n",
      "Handmade/Needlecraft/Clothing                                      1\n",
      "Handmade/Housewares/Cleaning                                       1\n",
      "Handmade/Holidays/Thanksgiving                                     1\n",
      "Handmade/Art/Collages                                              1\n",
      "Home/Storage & Organization/Storage Cabinets                       1\n",
      "Handmade/Paper Goods/Pad                                           1\n",
      "Handmade/Knitting/Other                                            1\n",
      "Handmade/Quilts/Wall Hanging                                       1\n",
      "Sports & Outdoors/Exercise/Track & Field                           1\n",
      "Handmade/Knitting/Bags and Purses                                  1\n",
      "Handmade/Bags and Purses/Diaper Bag                                1\n",
      "Home/Home Appliances/Garbage Disposals                             1\n",
      "Handmade/Art/Illustration                                          1\n",
      "Vintage & Collectibles/Paper Ephemera/Advertisement                1\n",
      "Handmade/Dolls and Miniatures/Fantasy                              1\n",
      "Name: category_name, Length: 1202, dtype: int64\n",
      "\n",
      "How often values appear in column >>brand_name<<\n",
      "PINK                    21667\n",
      "Nike                    21336\n",
      "Victoria's Secret       19370\n",
      "LuLaRoe                 12410\n",
      "Apple                    6922\n",
      "Nintendo                 6112\n",
      "FOREVER 21               6007\n",
      "Lululemon                5802\n",
      "Michael Kors             5587\n",
      "American Eagle           5311\n",
      "Rae Dunn                 4995\n",
      "Sephora                  4868\n",
      "Coach                    4211\n",
      "Adidas                   4190\n",
      "Bath & Body Works        4141\n",
      "Disney                   4089\n",
      "Funko                    3754\n",
      "Under Armour             3338\n",
      "Sony                     3263\n",
      "Old Navy                 3134\n",
      "Hollister                2759\n",
      "Carter's                 2620\n",
      "Urban Decay              2513\n",
      "The North Face           2420\n",
      "Too Faced                2324\n",
      "Xbox                     2290\n",
      "Independent              2284\n",
      "MAC                      2217\n",
      "Brandy Melville          2200\n",
      "Kate Spade               2177\n",
      "                        ...  \n",
      "Chicago                     1\n",
      "GX by Gwen Stefani          1\n",
      "Kingston                    1\n",
      "Clarisse                    1\n",
      "Game Gear                   1\n",
      "GPX                         1\n",
      "M by Marc Bouwer            1\n",
      "Bubblegum                   1\n",
      "Butterfly                   1\n",
      "IRO                         1\n",
      "Graham & Spencer            1\n",
      "Vertigo Paris               1\n",
      "Jollychic.com               1\n",
      "Chelsea & Violet            1\n",
      "Peppe Peluso                1\n",
      "Mansur Gavriel              1\n",
      "REPORT                      1\n",
      "Youngland                   1\n",
      "Bachmann Trains             1\n",
      "Franco                      1\n",
      "Vasque                      1\n",
      "Saffron Rouge               1\n",
      "LaCie                       1\n",
      "Etonic                      1\n",
      "Circulon                    1\n",
      "Cheetah                     1\n",
      "Tone                        1\n",
      "Giacca                      1\n",
      "Jenny Yoo                   1\n",
      "Kailijumei Lipsticks        1\n",
      "Name: brand_name, Length: 3751, dtype: int64\n"
     ]
    }
   ],
   "source": [
    "var = ['item_condition_id', 'shipping', 'category_name','brand_name']\n",
    "for v in var:\n",
    "    print ('\\nHow often values appear in column >>{}<<'.format(v))\n",
    "    print (train_orig[v].value_counts())"
   ]
  },
  {
   "cell_type": "markdown",
   "metadata": {},
   "source": [
    "### Sort \"category_name\" into levels \n",
    "1. The column \"category_name\" will be sorted into 5 levels\n",
    "2. Null entries will be replace by \"NA\"\n",
    "3. Column \"category_name\" will be droped\n",
    "4. Values in each category level will be counted again"
   ]
  },
  {
   "cell_type": "code",
   "execution_count": 56,
   "metadata": {},
   "outputs": [
    {
     "data": {
      "text/html": [
       "<div>\n",
       "<style>\n",
       "    .dataframe thead tr:only-child th {\n",
       "        text-align: right;\n",
       "    }\n",
       "\n",
       "    .dataframe thead th {\n",
       "        text-align: left;\n",
       "    }\n",
       "\n",
       "    .dataframe tbody tr th {\n",
       "        vertical-align: top;\n",
       "    }\n",
       "</style>\n",
       "<table border=\"1\" class=\"dataframe\">\n",
       "  <thead>\n",
       "    <tr style=\"text-align: right;\">\n",
       "      <th></th>\n",
       "      <th>train_id</th>\n",
       "      <th>name</th>\n",
       "      <th>item_condition_id</th>\n",
       "      <th>brand_name</th>\n",
       "      <th>price</th>\n",
       "      <th>shipping</th>\n",
       "      <th>item_description</th>\n",
       "      <th>cat_lvl_0</th>\n",
       "      <th>cat_lvl_1</th>\n",
       "      <th>cat_lvl_2</th>\n",
       "      <th>cat_lvl_3</th>\n",
       "      <th>cat_lvl_4</th>\n",
       "    </tr>\n",
       "  </thead>\n",
       "  <tbody>\n",
       "    <tr>\n",
       "      <th>0</th>\n",
       "      <td>0</td>\n",
       "      <td>MLB Cincinnati Reds T Shirt Size XL</td>\n",
       "      <td>3</td>\n",
       "      <td>NaN</td>\n",
       "      <td>10.0</td>\n",
       "      <td>1</td>\n",
       "      <td>No description yet</td>\n",
       "      <td>Men</td>\n",
       "      <td>Tops</td>\n",
       "      <td>T-shirts</td>\n",
       "      <td>NA</td>\n",
       "      <td>NA</td>\n",
       "    </tr>\n",
       "    <tr>\n",
       "      <th>1</th>\n",
       "      <td>1</td>\n",
       "      <td>Razer BlackWidow Chroma Keyboard</td>\n",
       "      <td>3</td>\n",
       "      <td>Razer</td>\n",
       "      <td>52.0</td>\n",
       "      <td>0</td>\n",
       "      <td>This keyboard is in great condition and works ...</td>\n",
       "      <td>Electronics</td>\n",
       "      <td>Computers &amp; Tablets</td>\n",
       "      <td>Components &amp; Parts</td>\n",
       "      <td>NA</td>\n",
       "      <td>NA</td>\n",
       "    </tr>\n",
       "    <tr>\n",
       "      <th>2</th>\n",
       "      <td>2</td>\n",
       "      <td>AVA-VIV Blouse</td>\n",
       "      <td>1</td>\n",
       "      <td>Target</td>\n",
       "      <td>10.0</td>\n",
       "      <td>1</td>\n",
       "      <td>Adorable top with a hint of lace and a key hol...</td>\n",
       "      <td>Women</td>\n",
       "      <td>Tops &amp; Blouses</td>\n",
       "      <td>Blouse</td>\n",
       "      <td>NA</td>\n",
       "      <td>NA</td>\n",
       "    </tr>\n",
       "    <tr>\n",
       "      <th>3</th>\n",
       "      <td>3</td>\n",
       "      <td>Leather Horse Statues</td>\n",
       "      <td>1</td>\n",
       "      <td>NaN</td>\n",
       "      <td>35.0</td>\n",
       "      <td>1</td>\n",
       "      <td>New with tags. Leather horses. Retail for [rm]...</td>\n",
       "      <td>Home</td>\n",
       "      <td>Home Décor</td>\n",
       "      <td>Home Décor Accents</td>\n",
       "      <td>NA</td>\n",
       "      <td>NA</td>\n",
       "    </tr>\n",
       "    <tr>\n",
       "      <th>4</th>\n",
       "      <td>4</td>\n",
       "      <td>24K GOLD plated rose</td>\n",
       "      <td>1</td>\n",
       "      <td>NaN</td>\n",
       "      <td>44.0</td>\n",
       "      <td>0</td>\n",
       "      <td>Complete with certificate of authenticity</td>\n",
       "      <td>Women</td>\n",
       "      <td>Jewelry</td>\n",
       "      <td>Necklaces</td>\n",
       "      <td>NA</td>\n",
       "      <td>NA</td>\n",
       "    </tr>\n",
       "  </tbody>\n",
       "</table>\n",
       "</div>"
      ],
      "text/plain": [
       "   train_id                                 name  item_condition_id  \\\n",
       "0         0  MLB Cincinnati Reds T Shirt Size XL                  3   \n",
       "1         1     Razer BlackWidow Chroma Keyboard                  3   \n",
       "2         2                       AVA-VIV Blouse                  1   \n",
       "3         3                Leather Horse Statues                  1   \n",
       "4         4                 24K GOLD plated rose                  1   \n",
       "\n",
       "  brand_name  price  shipping  \\\n",
       "0        NaN   10.0         1   \n",
       "1      Razer   52.0         0   \n",
       "2     Target   10.0         1   \n",
       "3        NaN   35.0         1   \n",
       "4        NaN   44.0         0   \n",
       "\n",
       "                                    item_description    cat_lvl_0  \\\n",
       "0                                 No description yet          Men   \n",
       "1  This keyboard is in great condition and works ...  Electronics   \n",
       "2  Adorable top with a hint of lace and a key hol...        Women   \n",
       "3  New with tags. Leather horses. Retail for [rm]...         Home   \n",
       "4          Complete with certificate of authenticity        Women   \n",
       "\n",
       "             cat_lvl_1           cat_lvl_2 cat_lvl_3 cat_lvl_4  \n",
       "0                 Tops            T-shirts        NA        NA  \n",
       "1  Computers & Tablets  Components & Parts        NA        NA  \n",
       "2       Tops & Blouses              Blouse        NA        NA  \n",
       "3           Home Décor  Home Décor Accents        NA        NA  \n",
       "4              Jewelry           Necklaces        NA        NA  "
      ]
     },
     "execution_count": 56,
     "metadata": {},
     "output_type": "execute_result"
    }
   ],
   "source": [
    "def sort_category(dataset):\n",
    "    cat_nbr = list()\n",
    "    # sort out all categories\n",
    "    category_set = set([\"NA\"])\n",
    "    n_lvl = 5\n",
    "    category_lvls = list()\n",
    "    category_lvls_idx = list()\n",
    "    category_lvls_name = [\"cat_lvl_\"+str(x) for x in range(n_lvl)]\n",
    "    for i, v in dataset[\"category_name\"].iteritems():\n",
    "        category_lvls_idx.append(i)\n",
    "        if not pd.isnull(v):\n",
    "            cate_ls = v.split(\"/\")\n",
    "            cate_ls = tuple(cate_ls+[\"NA\"]*(n_lvl-len(cate_ls)))\n",
    "            category_lvls.append(cate_ls)\n",
    "            cat_nbr.append(len(cate_ls))\n",
    "            category_set |= set(cate_ls)\n",
    "        else:\n",
    "            category_lvls.append([\"NA\"]*n_lvl)\n",
    "    category_lvls = pd.DataFrame(category_lvls, index=category_lvls_idx, columns=category_lvls_name)\n",
    "    return category_lvls, category_set\n",
    "\n",
    "# modify \"category_name\"\n",
    "cg_lvls, cg_set = sort_category(train_orig)\n",
    "train_mod = pd.concat([train_orig, cg_lvls], axis=1)\n",
    "train_mod.drop(\"category_name\", axis=1, inplace=True)\n",
    "train_mod.head()"
   ]
  },
  {
   "cell_type": "code",
   "execution_count": 57,
   "metadata": {},
   "outputs": [
    {
     "name": "stdout",
     "output_type": "stream",
     "text": [
      "\n",
      "How often values appear in column >>cat_lvl_0<<\n",
      "Women                     265870\n",
      "Beauty                     83315\n",
      "Kids                       68404\n",
      "Electronics                49173\n",
      "Men                        37508\n",
      "Home                       27331\n",
      "Vintage & Collectibles     18673\n",
      "Other                      18251\n",
      "Handmade                   12257\n",
      "Sports & Outdoors          10053\n",
      "NA                          2541\n",
      "Name: cat_lvl_0, dtype: int64\n",
      "\n",
      "How often values appear in column >>cat_lvl_1<<\n",
      "Athletic Apparel             53372\n",
      "Makeup                       49972\n",
      "Tops & Blouses               42811\n",
      "Shoes                        40242\n",
      "Jewelry                      24754\n",
      "Toys                         23286\n",
      "Cell Phones & Accessories    21316\n",
      "Women's Handbags             18385\n",
      "Dresses                      18211\n",
      "Women's Accessories          16963\n",
      "Jeans                        14457\n",
      "Video Games & Consoles       14402\n",
      "Sweaters                     14164\n",
      "Underwear                    13579\n",
      "Skin Care                    11819\n",
      "Home Décor                   10002\n",
      "Fragrance                     9815\n",
      "Kitchen & Dining              8933\n",
      "Tops                          8381\n",
      "Other                         8079\n",
      "Swimwear                      7776\n",
      "Men's Accessories             7491\n",
      "Coats & Jackets               7383\n",
      "Girls 2T-5T                   7213\n",
      "Girls 0-24 Mos                7179\n",
      "Boys 0-24 Mos                 6078\n",
      "Girls (4+)                    6003\n",
      "Boys (4+)                     5887\n",
      "Boys 2T-5T                    5693\n",
      "Tools & Accessories           5230\n",
      "                             ...  \n",
      "Art                            285\n",
      "Kids' Home Store               264\n",
      "Glass                          249\n",
      "Health & Baby Care             234\n",
      "Weddings                       229\n",
      "Footwear                       218\n",
      "Strollers                      198\n",
      "Car Audio, Video & GPS         195\n",
      "Home Decor                     192\n",
      "Safety                         155\n",
      "Holidays                       140\n",
      "Needlecraft                    124\n",
      "Others                         121\n",
      "Pets                           104\n",
      "Magazines                       87\n",
      "Crochet                         84\n",
      "Patterns                        74\n",
      "Potty Training                  66\n",
      "Furniture                       64\n",
      "Paper Ephemera                  64\n",
      "Knitting                        53\n",
      "Geekery                         49\n",
      "Woodworking                     45\n",
      "Suits                           24\n",
      "Ceramics and Pottery            24\n",
      "Candles                         23\n",
      "Blazers & Sport Coats           23\n",
      "Books and Zines                 20\n",
      "Dolls and Miniatures            16\n",
      "Quilts                          13\n",
      "Name: cat_lvl_1, Length: 114, dtype: int64\n",
      "\n",
      "How often values appear in column >>cat_lvl_2<<\n",
      "Pants, Tights, Leggings    23840\n",
      "Other                      20097\n",
      "Face                       19923\n",
      "T-Shirts                   18570\n",
      "Shoes                      12589\n",
      "Games                      12419\n",
      "Lips                       12262\n",
      "Athletic                   10793\n",
      "Eyes                       10540\n",
      "Cases, Covers & Skins       9879\n",
      "Shorts                      8708\n",
      "Bras                        8588\n",
      "Tank, Cami                  8169\n",
      "Blouse                      8160\n",
      "Boots                       8160\n",
      "Necklaces                   7977\n",
      "Above Knee, Mini            7969\n",
      "Makeup Palettes             7730\n",
      "Women                       7622\n",
      "Shirts & Tops               6678\n",
      "Shoulder Bag                6186\n",
      "T-shirts                    6159\n",
      "Sandals                     6138\n",
      "Fashion Sneakers            6075\n",
      "Wallets                     5931\n",
      "Knee-Length                 5927\n",
      "Bracelets                   5809\n",
      "Tops & T-Shirts             5791\n",
      "Slim, Skinny                5680\n",
      "Dolls & Accessories         5490\n",
      "                           ...  \n",
      "Storage Cabinets               1\n",
      "Non-Slip Bath Mats             1\n",
      "Freezers & Ice Makers          1\n",
      "Videogame                      1\n",
      "Advertisement                  1\n",
      "Child Friendly                 1\n",
      "Tiles                          1\n",
      "House                          1\n",
      "Doll Clothes                   1\n",
      "Pitcher                        1\n",
      "Track & Field                  1\n",
      "RV Parts & Accessories         1\n",
      "Pad                            1\n",
      "Oils & Fluids                  1\n",
      "Sponges                        1\n",
      "Coasters                       1\n",
      "Illustration                   1\n",
      "Dishes                         1\n",
      "Pot Holder                     1\n",
      "Horror                         1\n",
      "Kids' Bath                     1\n",
      "Primitive                      1\n",
      "Cleaning                       1\n",
      "Nursery Furniture              1\n",
      "Holiday Décor Storage          1\n",
      "Double Breasted                1\n",
      "Illustrated                    1\n",
      "Storage Solutions              1\n",
      "Bathroom                       1\n",
      "Decorating                     1\n",
      "Name: cat_lvl_2, Length: 830, dtype: int64\n",
      "\n",
      "How often values appear in column >>cat_lvl_3<<\n",
      "NA               591642\n",
      "Tablet             1187\n",
      "Ballet              234\n",
      "Outdoor Games       187\n",
      "Bomber              101\n",
      "Baseball             25\n",
      "Name: cat_lvl_3, dtype: int64\n",
      "\n",
      "How often values appear in column >>cat_lvl_4<<\n",
      "NA               592189\n",
      "eBook Readers       771\n",
      "eBook Access        416\n",
      "Name: cat_lvl_4, dtype: int64\n"
     ]
    }
   ],
   "source": [
    "var = ['cat_lvl_0', 'cat_lvl_1', 'cat_lvl_2','cat_lvl_3','cat_lvl_4' ]\n",
    "for v in var:\n",
    "    print ('\\nHow often values appear in column >>{}<<'.format(v))\n",
    "    print (train_mod[v].value_counts())"
   ]
  },
  {
   "cell_type": "markdown",
   "metadata": {},
   "source": [
    "### Basic statistic in sub-categories"
   ]
  },
  {
   "cell_type": "code",
   "execution_count": 58,
   "metadata": {},
   "outputs": [
    {
     "data": {
      "text/html": [
       "<div>\n",
       "<style>\n",
       "    .dataframe thead tr:only-child th {\n",
       "        text-align: right;\n",
       "    }\n",
       "\n",
       "    .dataframe thead th {\n",
       "        text-align: left;\n",
       "    }\n",
       "\n",
       "    .dataframe tbody tr th {\n",
       "        vertical-align: top;\n",
       "    }\n",
       "</style>\n",
       "<table border=\"1\" class=\"dataframe\">\n",
       "  <thead>\n",
       "    <tr>\n",
       "      <th></th>\n",
       "      <th></th>\n",
       "      <th></th>\n",
       "      <th colspan=\"8\" halign=\"left\">price</th>\n",
       "    </tr>\n",
       "    <tr>\n",
       "      <th></th>\n",
       "      <th></th>\n",
       "      <th></th>\n",
       "      <th>count</th>\n",
       "      <th>mean</th>\n",
       "      <th>std</th>\n",
       "      <th>min</th>\n",
       "      <th>25%</th>\n",
       "      <th>50%</th>\n",
       "      <th>75%</th>\n",
       "      <th>max</th>\n",
       "    </tr>\n",
       "    <tr>\n",
       "      <th>cat_lvl_0</th>\n",
       "      <th>cat_lvl_1</th>\n",
       "      <th>cat_lvl_2</th>\n",
       "      <th></th>\n",
       "      <th></th>\n",
       "      <th></th>\n",
       "      <th></th>\n",
       "      <th></th>\n",
       "      <th></th>\n",
       "      <th></th>\n",
       "      <th></th>\n",
       "    </tr>\n",
       "  </thead>\n",
       "  <tbody>\n",
       "    <tr>\n",
       "      <th rowspan=\"5\" valign=\"top\">Beauty</th>\n",
       "      <th rowspan=\"5\" valign=\"top\">Bath &amp; Body</th>\n",
       "      <th>Bath</th>\n",
       "      <td>2103.0</td>\n",
       "      <td>18.196386</td>\n",
       "      <td>15.968271</td>\n",
       "      <td>0.0</td>\n",
       "      <td>9.0</td>\n",
       "      <td>14.0</td>\n",
       "      <td>22.0</td>\n",
       "      <td>160.0</td>\n",
       "    </tr>\n",
       "    <tr>\n",
       "      <th>Bathing Accessories</th>\n",
       "      <td>131.0</td>\n",
       "      <td>21.870229</td>\n",
       "      <td>11.088731</td>\n",
       "      <td>5.0</td>\n",
       "      <td>12.0</td>\n",
       "      <td>20.0</td>\n",
       "      <td>30.0</td>\n",
       "      <td>68.0</td>\n",
       "    </tr>\n",
       "    <tr>\n",
       "      <th>Cleansers</th>\n",
       "      <td>279.0</td>\n",
       "      <td>13.695341</td>\n",
       "      <td>11.281726</td>\n",
       "      <td>3.0</td>\n",
       "      <td>7.0</td>\n",
       "      <td>10.0</td>\n",
       "      <td>16.0</td>\n",
       "      <td>86.0</td>\n",
       "    </tr>\n",
       "    <tr>\n",
       "      <th>Other</th>\n",
       "      <td>49.0</td>\n",
       "      <td>23.081633</td>\n",
       "      <td>18.210387</td>\n",
       "      <td>3.0</td>\n",
       "      <td>10.0</td>\n",
       "      <td>16.0</td>\n",
       "      <td>29.0</td>\n",
       "      <td>94.0</td>\n",
       "    </tr>\n",
       "    <tr>\n",
       "      <th>Scrubs &amp; Body Treatments</th>\n",
       "      <td>327.0</td>\n",
       "      <td>23.764526</td>\n",
       "      <td>21.918062</td>\n",
       "      <td>3.0</td>\n",
       "      <td>12.0</td>\n",
       "      <td>18.0</td>\n",
       "      <td>26.5</td>\n",
       "      <td>200.0</td>\n",
       "    </tr>\n",
       "  </tbody>\n",
       "</table>\n",
       "</div>"
      ],
      "text/plain": [
       "                                                 price                        \\\n",
       "                                                 count       mean        std   \n",
       "cat_lvl_0 cat_lvl_1   cat_lvl_2                                                \n",
       "Beauty    Bath & Body Bath                      2103.0  18.196386  15.968271   \n",
       "                      Bathing Accessories        131.0  21.870229  11.088731   \n",
       "                      Cleansers                  279.0  13.695341  11.281726   \n",
       "                      Other                       49.0  23.081633  18.210387   \n",
       "                      Scrubs & Body Treatments   327.0  23.764526  21.918062   \n",
       "\n",
       "                                                                              \n",
       "                                                min   25%   50%   75%    max  \n",
       "cat_lvl_0 cat_lvl_1   cat_lvl_2                                               \n",
       "Beauty    Bath & Body Bath                      0.0   9.0  14.0  22.0  160.0  \n",
       "                      Bathing Accessories       5.0  12.0  20.0  30.0   68.0  \n",
       "                      Cleansers                 3.0   7.0  10.0  16.0   86.0  \n",
       "                      Other                     3.0  10.0  16.0  29.0   94.0  \n",
       "                      Scrubs & Body Treatments  3.0  12.0  18.0  26.5  200.0  "
      ]
     },
     "execution_count": 58,
     "metadata": {},
     "output_type": "execute_result"
    }
   ],
   "source": [
    "category_df = train_mod[[\"cat_lvl_0\", \"cat_lvl_1\", \"cat_lvl_2\", \"price\"]]\n",
    "cat_group = category_df.groupby([\"cat_lvl_0\", \"cat_lvl_1\", \"cat_lvl_2\"]).describe()\n",
    "cat_group.head()"
   ]
  },
  {
   "cell_type": "markdown",
   "metadata": {},
   "source": [
    "### Modify \"brand_name\"\n",
    "empty value will be replaced by \"noname\""
   ]
  },
  {
   "cell_type": "code",
   "execution_count": 59,
   "metadata": {
    "collapsed": true
   },
   "outputs": [],
   "source": [
    "train_mod.loc[pd.isnull(train_mod[\"brand_name\"]), \"brand_name\"] = \"noname\""
   ]
  },
  {
   "cell_type": "markdown",
   "metadata": {},
   "source": [
    "### Basic statistic for brands"
   ]
  },
  {
   "cell_type": "code",
   "execution_count": 60,
   "metadata": {},
   "outputs": [
    {
     "data": {
      "text/html": [
       "<div>\n",
       "<style>\n",
       "    .dataframe thead tr:only-child th {\n",
       "        text-align: right;\n",
       "    }\n",
       "\n",
       "    .dataframe thead th {\n",
       "        text-align: left;\n",
       "    }\n",
       "\n",
       "    .dataframe tbody tr th {\n",
       "        vertical-align: top;\n",
       "    }\n",
       "</style>\n",
       "<table border=\"1\" class=\"dataframe\">\n",
       "  <thead>\n",
       "    <tr>\n",
       "      <th></th>\n",
       "      <th colspan=\"8\" halign=\"left\">price</th>\n",
       "    </tr>\n",
       "    <tr>\n",
       "      <th></th>\n",
       "      <th>count</th>\n",
       "      <th>mean</th>\n",
       "      <th>std</th>\n",
       "      <th>min</th>\n",
       "      <th>25%</th>\n",
       "      <th>50%</th>\n",
       "      <th>75%</th>\n",
       "      <th>max</th>\n",
       "    </tr>\n",
       "    <tr>\n",
       "      <th>brand_name</th>\n",
       "      <th></th>\n",
       "      <th></th>\n",
       "      <th></th>\n",
       "      <th></th>\n",
       "      <th></th>\n",
       "      <th></th>\n",
       "      <th></th>\n",
       "      <th></th>\n",
       "    </tr>\n",
       "  </thead>\n",
       "  <tbody>\n",
       "    <tr>\n",
       "      <th>% Pure</th>\n",
       "      <td>20.0</td>\n",
       "      <td>13.85</td>\n",
       "      <td>5.537195</td>\n",
       "      <td>5.0</td>\n",
       "      <td>9.0</td>\n",
       "      <td>13.5</td>\n",
       "      <td>16.5</td>\n",
       "      <td>24.0</td>\n",
       "    </tr>\n",
       "    <tr>\n",
       "      <th>10.Deep</th>\n",
       "      <td>1.0</td>\n",
       "      <td>21.00</td>\n",
       "      <td>NaN</td>\n",
       "      <td>21.0</td>\n",
       "      <td>21.0</td>\n",
       "      <td>21.0</td>\n",
       "      <td>21.0</td>\n",
       "      <td>21.0</td>\n",
       "    </tr>\n",
       "    <tr>\n",
       "      <th>21men</th>\n",
       "      <td>1.0</td>\n",
       "      <td>10.00</td>\n",
       "      <td>NaN</td>\n",
       "      <td>10.0</td>\n",
       "      <td>10.0</td>\n",
       "      <td>10.0</td>\n",
       "      <td>10.0</td>\n",
       "      <td>10.0</td>\n",
       "    </tr>\n",
       "    <tr>\n",
       "      <th>24/7 Comfort Apparel</th>\n",
       "      <td>1.0</td>\n",
       "      <td>10.00</td>\n",
       "      <td>NaN</td>\n",
       "      <td>10.0</td>\n",
       "      <td>10.0</td>\n",
       "      <td>10.0</td>\n",
       "      <td>10.0</td>\n",
       "      <td>10.0</td>\n",
       "    </tr>\n",
       "    <tr>\n",
       "      <th>2K Games</th>\n",
       "      <td>1.0</td>\n",
       "      <td>9.00</td>\n",
       "      <td>NaN</td>\n",
       "      <td>9.0</td>\n",
       "      <td>9.0</td>\n",
       "      <td>9.0</td>\n",
       "      <td>9.0</td>\n",
       "      <td>9.0</td>\n",
       "    </tr>\n",
       "  </tbody>\n",
       "</table>\n",
       "</div>"
      ],
      "text/plain": [
       "                     price                                               \n",
       "                     count   mean       std   min   25%   50%   75%   max\n",
       "brand_name                                                               \n",
       "% Pure                20.0  13.85  5.537195   5.0   9.0  13.5  16.5  24.0\n",
       "10.Deep                1.0  21.00       NaN  21.0  21.0  21.0  21.0  21.0\n",
       "21men                  1.0  10.00       NaN  10.0  10.0  10.0  10.0  10.0\n",
       "24/7 Comfort Apparel   1.0  10.00       NaN  10.0  10.0  10.0  10.0  10.0\n",
       "2K Games               1.0   9.00       NaN   9.0   9.0   9.0   9.0   9.0"
      ]
     },
     "execution_count": 60,
     "metadata": {},
     "output_type": "execute_result"
    }
   ],
   "source": [
    "price_df = train_mod[[\"brand_name\", \"price\"]]\n",
    "price_group = price_df.groupby([\"brand_name\"]).describe()\n",
    "price_group.head()"
   ]
  },
  {
   "cell_type": "markdown",
   "metadata": {},
   "source": [
    "### Calc log-price due to biased distribution of price"
   ]
  },
  {
   "cell_type": "code",
   "execution_count": 61,
   "metadata": {},
   "outputs": [
    {
     "data": {
      "text/plain": [
       "<matplotlib.text.Text at 0x36abb390>"
      ]
     },
     "execution_count": 61,
     "metadata": {},
     "output_type": "execute_result"
    },
    {
     "data": {
      "image/png": "[encoded data removed]",
      "text/plain": [
       "<matplotlib.figure.Figure at 0x6d382278>"
      ]
     },
     "metadata": {},
     "output_type": "display_data"
    }
   ],
   "source": [
    "fig = train_mod[\"price\"].hist(bins=100)\n",
    "fig.set_title(\"Price distribution\")\n",
    "fig.set_xlabel(\"Price\")\n",
    "fig.set_ylabel(\"Number\")"
   ]
  },
  {
   "cell_type": "code",
   "execution_count": 62,
   "metadata": {},
   "outputs": [
    {
     "data": {
      "text/plain": [
       "<matplotlib.axes._subplots.AxesSubplot at 0x6e54f7f0>"
      ]
     },
     "execution_count": 62,
     "metadata": {},
     "output_type": "execute_result"
    },
    {
     "data": {
      "image/png": "[encoded data removed]",
      "text/plain": [
       "<matplotlib.figure.Figure at 0x6d382ac8>"
      ]
     },
     "metadata": {},
     "output_type": "display_data"
    }
   ],
   "source": [
    "train_mod.boxplot(column='price',return_type='axes')"
   ]
  },
  {
   "cell_type": "code",
   "execution_count": 63,
   "metadata": {},
   "outputs": [
    {
     "data": {
      "text/plain": [
       "<matplotlib.text.Text at 0x6ef435f8>"
      ]
     },
     "execution_count": 63,
     "metadata": {},
     "output_type": "execute_result"
    },
    {
     "data": {
      "image/png": "[encoded data removed]",
      "text/plain": [
       "<matplotlib.figure.Figure at 0x6e372fd0>"
      ]
     },
     "metadata": {},
     "output_type": "display_data"
    }
   ],
   "source": [
    "train_mod[\"pricelog\"] = pd.Series(np.log10(train_mod[\"price\"]+1), index=train_mod[\"price\"].index)\n",
    "fig = train_mod[\"pricelog\"].hist(bins=100)\n",
    "fig.set_title(\"log-Price distribution\")\n",
    "fig.set_xlabel(\"log-Price\")\n",
    "fig.set_ylabel(\"Number\")"
   ]
  },
  {
   "cell_type": "code",
   "execution_count": 64,
   "metadata": {},
   "outputs": [
    {
     "data": {
      "text/plain": [
       "<matplotlib.axes._subplots.AxesSubplot at 0x73eb6908>"
      ]
     },
     "execution_count": 64,
     "metadata": {},
     "output_type": "execute_result"
    },
    {
     "data": {
      "image/png": "[encoded data removed]",
      "text/plain": [
       "<matplotlib.figure.Figure at 0x3534ac88>"
      ]
     },
     "metadata": {},
     "output_type": "display_data"
    }
   ],
   "source": [
    "train_mod.boxplot(column='pricelog',return_type='axes')"
   ]
  },
  {
   "cell_type": "markdown",
   "metadata": {
    "collapsed": true
   },
   "source": [
    "**Notice:** some prices are zero "
   ]
  },
  {
   "cell_type": "markdown",
   "metadata": {},
   "source": [
    "### Numerical Coding (for object dtype):"
   ]
  },
  {
   "cell_type": "code",
   "execution_count": 68,
   "metadata": {},
   "outputs": [
    {
     "data": {
      "text/plain": [
       "train_id               int64\n",
       "name                  object\n",
       "item_condition_id      int64\n",
       "brand_name             int16\n",
       "price                float64\n",
       "shipping               int64\n",
       "item_description      object\n",
       "cat_lvl_0               int8\n",
       "cat_lvl_1               int8\n",
       "cat_lvl_2              int16\n",
       "cat_lvl_3               int8\n",
       "cat_lvl_4               int8\n",
       "pricelog             float64\n",
       "dtype: object"
      ]
     },
     "execution_count": 68,
     "metadata": {},
     "output_type": "execute_result"
    }
   ],
   "source": [
    "train_mod.dtypes\n",
    "col_to_encode = [\"brand_name\", \"cat_lvl_0\", \"cat_lvl_1\",\"cat_lvl_2\",\"cat_lvl_3\",\"cat_lvl_4\"]\n",
    "for col in col_to_encode:\n",
    "    train_mod[col] = train_mod[col].astype('category').cat.codes\n",
    "train_mod.dtypes"
   ]
  },
  {
   "cell_type": "markdown",
   "metadata": {},
   "source": [
    "### Using One-Hot Coding to avoid orderial categories"
   ]
  },
  {
   "cell_type": "code",
   "execution_count": 66,
   "metadata": {},
   "outputs": [
    {
     "data": {
      "text/plain": [
       "Index(['train_id', 'name', 'item_condition_id', 'price', 'item_description',\n",
       "       'pricelog', 'brand_name_0', 'brand_name_1', 'brand_name_2',\n",
       "       'brand_name_3',\n",
       "       ...\n",
       "       'cat_lvl_3_1', 'cat_lvl_3_2', 'cat_lvl_3_3', 'cat_lvl_3_4',\n",
       "       'cat_lvl_3_5', 'cat_lvl_4_0', 'cat_lvl_4_1', 'cat_lvl_4_2',\n",
       "       'shipping_0', 'shipping_1'],\n",
       "      dtype='object', length=4724)"
      ]
     },
     "execution_count": 66,
     "metadata": {},
     "output_type": "execute_result"
    }
   ],
   "source": [
    "train_mod_oh = pd.get_dummies(train_mod, columns=col_to_encode+[\"shipping\"])\n",
    "train_mod_oh.columns"
   ]
  },
  {
   "cell_type": "code",
   "execution_count": 67,
   "metadata": {
    "collapsed": true
   },
   "outputs": [],
   "source": [
    "# one-hot coding is sparse and generate a large file\n",
    "# train_mod_oh.to_pickle(\"train_mod_1hot.pkl\")\n",
    "# save the file for further use\n",
    "train_mod.to_pickle(\"train_mod.pkl\")"
   ]
  },
  {
   "cell_type": "code",
   "execution_count": null,
   "metadata": {
    "collapsed": true
   },
   "outputs": [],
   "source": []
  }
 ],
 "metadata": {
  "kernelspec": {
   "display_name": "Python 3",
   "language": "python",
   "name": "python3"
  },
  "language_info": {
   "codemirror_mode": {
    "name": "ipython",
    "version": 3
   },
   "file_extension": ".py",
   "mimetype": "text/x-python",
   "name": "python",
   "nbconvert_exporter": "python",
   "pygments_lexer": "ipython3",
   "version": "3.6.2"
  }
 },
 "nbformat": 4,
 "nbformat_minor": 2
}
